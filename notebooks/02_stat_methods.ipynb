{
 "cells": [
  {
   "cell_type": "markdown",
   "id": "43359075",
   "metadata": {},
   "source": [
    "### Load Dependencies"
   ]
  },
  {
   "cell_type": "code",
   "execution_count": null,
   "id": "635630ed",
   "metadata": {},
   "outputs": [],
   "source": [
    "import numpy as np\n",
    "import matplotlib.pyplot as plt"
   ]
  },
  {
   "cell_type": "markdown",
   "id": "3c369c5b",
   "metadata": {},
   "source": [
    "### Load Dataset"
   ]
  },
  {
   "cell_type": "code",
   "execution_count": null,
   "id": "e6ac99e9",
   "metadata": {},
   "outputs": [],
   "source": [
    "beats = np.load(\"../preprocessed_beats.npy\")  # shape: [N, T]\n",
    "print(\"Loaded beats:\", beats.shape)"
   ]
  },
  {
   "cell_type": "markdown",
   "id": "16bd08f3",
   "metadata": {},
   "source": [
    "### Visualize Sample Beats"
   ]
  },
  {
   "cell_type": "code",
   "execution_count": null,
   "id": "37662990",
   "metadata": {},
   "outputs": [],
   "source": [
    "plt.figure(figsize=(10, 3))\n",
    "for i in range(5):\n",
    "    plt.plot(beats[i], label=f'beat {i}')\n",
    "plt.title(\"Original ECG beats\")\n",
    "plt.legend()\n",
    "plt.show()"
   ]
  },
  {
   "cell_type": "markdown",
   "id": "acf23f85",
   "metadata": {},
   "source": [
    "### Bootstrapping"
   ]
  }
 ],
 "metadata": {
  "kernelspec": {
   "display_name": "data-synthesis",
   "language": "python",
   "name": "python3"
  },
  "language_info": {
   "codemirror_mode": {
    "name": "ipython",
    "version": 3
   },
   "file_extension": ".py",
   "mimetype": "text/x-python",
   "name": "python",
   "nbconvert_exporter": "python",
   "pygments_lexer": "ipython3",
   "version": "3.12.8"
  }
 },
 "nbformat": 4,
 "nbformat_minor": 5
}
